{
  "nbformat": 4,
  "nbformat_minor": 0,
  "metadata": {
    "colab": {
      "provenance": []
    },
    "kernelspec": {
      "name": "python3",
      "display_name": "Python 3"
    },
    "language_info": {
      "name": "python"
    }
  },
  "cells": [
    {
      "cell_type": "code",
      "source": [
        "pip install joblib"
      ],
      "metadata": {
        "colab": {
          "base_uri": "https://localhost:8080/"
        },
        "id": "UZK3o5GcyEkA",
        "outputId": "0bf2c2d3-822a-479f-92ee-d9515757cf76"
      },
      "execution_count": 5,
      "outputs": [
        {
          "output_type": "stream",
          "name": "stdout",
          "text": [
            "Requirement already satisfied: joblib in /usr/local/lib/python3.11/dist-packages (1.5.0)\n"
          ]
        }
      ]
    },
    {
      "cell_type": "code",
      "execution_count": 6,
      "metadata": {
        "id": "oewofFNHwhM0"
      },
      "outputs": [],
      "source": [
        "# Reverse Supply Chain Optimizer - Phase 6: Unified Integration Notebook\n",
        "\n",
        "# ✅ Phase 1: Product Return Prediction\n",
        "import pickle\n",
        "import pandas as pd\n",
        "import numpy as np\n",
        "from xgboost import XGBClassifier\n",
        "from sklearn.preprocessing import StandardScaler\n",
        "import joblib"
      ]
    },
    {
      "cell_type": "code",
      "source": [
        "# Load model and scaler\n",
        "with open(\"/content/xgb_model.pkl\", \"rb\") as f:\n",
        "    return_model = pickle.load(f)\n",
        "with open(\"/content/scaler.pkl\", \"rb\") as f:\n",
        "    return_scaler = joblib.load(f)\n"
      ],
      "metadata": {
        "id": "ixc9R3AQxI_v"
      },
      "execution_count": 7,
      "outputs": []
    },
    {
      "cell_type": "code",
      "source": [
        "# Sample input\n",
        "product_input = pd.DataFrame({\n",
        "    'price': [150.0],\n",
        "    'rating': [2.5]\n",
        "})\n",
        "\n",
        "# Scale features\n",
        "product_input_scaled = return_scaler.transform(product_input)"
      ],
      "metadata": {
        "id": "NBldQ0fexMem"
      },
      "execution_count": 8,
      "outputs": []
    },
    {
      "cell_type": "code",
      "source": [
        "# Predict return probability\n",
        "return_proba = return_model.predict_proba(product_input_scaled)[0][1]\n",
        "return_prediction = return_model.predict(product_input_scaled)[0]\n",
        "\n",
        "print(\"--- Phase 1 ---\")\n",
        "print(f\"Return Probability: {return_proba:.2f}\")\n",
        "print(f\"Will Product be Returned? {'Yes' if return_prediction == 1 else 'No'}\")\n"
      ],
      "metadata": {
        "colab": {
          "base_uri": "https://localhost:8080/"
        },
        "id": "EJhkZdMIyW2Y",
        "outputId": "cad5b5db-d270-4bca-e7fd-04f2b1bc47d8"
      },
      "execution_count": 9,
      "outputs": [
        {
          "output_type": "stream",
          "name": "stdout",
          "text": [
            "--- Phase 1 ---\n",
            "Return Probability: 0.28\n",
            "Will Product be Returned? No\n"
          ]
        }
      ]
    },
    {
      "cell_type": "code",
      "source": [
        "# ✅ Phase 2: Return Cost Estimation\n",
        "with open(\"/content/xgb_cost_model.pkl\", \"rb\") as f:\n",
        "    cost_model = pickle.load(f)\n",
        "\n",
        "# Sample input for cost prediction - UPDATED to match expected features\n",
        "# Based on the error, the model expects these specific features.\n",
        "# You will need to replace the sample values below with realistic ones for your use case.\n",
        "cost_input = pd.DataFrame({\n",
        "    'sentiment_compound': [0.75], # Example value\n",
        "    'Review Rating': [4.0],      # Example value\n",
        "    'verified_encoded': [1],     # Example value (assuming 0 or 1 for encoded binary feature)\n",
        "    'Category_Grocery & Gourmet Food': [1] # Example value (assuming 0 or 1 for encoded categorical feature)\n",
        "})\n",
        "\n",
        "# Predict return cost\n",
        "return_cost = cost_model.predict(cost_input)[0]\n",
        "\n",
        "print(\"\\n--- Phase 2 ---\")\n",
        "print(f\"Estimated Return Cost: ₹{return_cost:.2f}\")"
      ],
      "metadata": {
        "colab": {
          "base_uri": "https://localhost:8080/"
        },
        "id": "LaIQYnblyZr5",
        "outputId": "35e5b5e9-4688-4e4d-c9b8-ff485b07cb80"
      },
      "execution_count": 12,
      "outputs": [
        {
          "output_type": "stream",
          "name": "stdout",
          "text": [
            "\n",
            "--- Phase 2 ---\n",
            "Estimated Return Cost: ₹12.23\n"
          ]
        }
      ]
    },
    {
      "cell_type": "code",
      "source": [
        "# ✅ Phase 3: Reverse Logistics Optimization\n",
        "# Assume simple cost minimization based on distance and mode\n",
        "reverse_logistics = pd.DataFrame({\n",
        "    'distance_km': [120],\n",
        "    'mode': ['road'],  # road, air, rail\n",
        "    'base_cost': [return_cost]\n",
        "})\n",
        "\n",
        "# Simple logic: add multiplier based on mode\n",
        "mode_multiplier = {'road': 1.0, 'rail': 0.8, 'air': 1.5}\n",
        "reverse_logistics['logistics_cost'] = reverse_logistics['base_cost'] * reverse_logistics['distance_km'] * 0.05 * reverse_logistics['mode'].map(mode_multiplier)\n",
        "print(\"\\n--- Phase 3 ---\")\n",
        "print(reverse_logistics[['mode', 'logistics_cost']])"
      ],
      "metadata": {
        "colab": {
          "base_uri": "https://localhost:8080/"
        },
        "id": "hYCI-DJZyd0E",
        "outputId": "e422818e-f063-45ce-c07c-3c09eb0a09de"
      },
      "execution_count": 14,
      "outputs": [
        {
          "output_type": "stream",
          "name": "stdout",
          "text": [
            "\n",
            "--- Phase 3 ---\n",
            "   mode  logistics_cost\n",
            "0  road        73.36108\n"
          ]
        }
      ]
    },
    {
      "cell_type": "code",
      "source": [
        "# ✅ Phase 4: Inventory Optimization\n",
        "# Basic example: reorder based on returned product\n",
        "returned_quantity = 10\n",
        "current_inventory = 50\n",
        "reorder_threshold = 40\n",
        "\n",
        "updated_inventory = current_inventory + returned_quantity\n",
        "reorder_flag = updated_inventory < reorder_threshold\n",
        "\n",
        "print(\"\\n--- Phase 4 ---\")\n",
        "print(f\"Updated Inventory: {updated_inventory}\")\n",
        "print(f\"Reorder Needed? {'Yes' if reorder_flag else 'No'}\")"
      ],
      "metadata": {
        "colab": {
          "base_uri": "https://localhost:8080/"
        },
        "id": "Gs6xTcrZyyOD",
        "outputId": "0404a581-21d5-4c78-d3ec-6d0acaaa0e18"
      },
      "execution_count": 15,
      "outputs": [
        {
          "output_type": "stream",
          "name": "stdout",
          "text": [
            "\n",
            "--- Phase 4 ---\n",
            "Updated Inventory: 60\n",
            "Reorder Needed? No\n"
          ]
        }
      ]
    },
    {
      "cell_type": "code",
      "source": [],
      "metadata": {
        "id": "tpFuMD5_y4ni"
      },
      "execution_count": null,
      "outputs": []
    }
  ]
}